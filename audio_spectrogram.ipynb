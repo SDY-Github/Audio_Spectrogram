{
  "nbformat": 4,
  "nbformat_minor": 0,
  "metadata": {
    "kernelspec": {
      "display_name": "Python 3",
      "language": "python",
      "name": "python3"
    },
    "language_info": {
      "codemirror_mode": {
        "name": "ipython",
        "version": 3
      },
      "file_extension": ".py",
      "mimetype": "text/x-python",
      "name": "python",
      "nbconvert_exporter": "python",
      "pygments_lexer": "ipython3",
      "version": "3.5.2"
    },
    "colab": {
      "name": "audio_spectrogram.ipynb",
      "provenance": [],
      "collapsed_sections": [],
      "toc_visible": true,
      "include_colab_link": true
    }
  },
  "cells": [
    {
      "cell_type": "markdown",
      "metadata": {
        "id": "view-in-github",
        "colab_type": "text"
      },
      "source": [
        "<a href=\"https://colab.research.google.com/github/SDY-Github/Audio_Spectrogram/blob/main/audio_spectrogram.ipynb\" target=\"_parent\"><img src=\"https://colab.research.google.com/assets/colab-badge.svg\" alt=\"Open In Colab\"/></a>"
      ]
    },
    {
      "cell_type": "code",
      "metadata": {
        "colab": {
          "base_uri": "https://localhost:8080/"
        },
        "id": "QV5ft7_WunN8",
        "outputId": "b409601b-c92c-41fd-e910-1d33c2d0816c"
      },
      "source": [
        "from google.colab import drive\n",
        "drive.mount('/content/drive')"
      ],
      "execution_count": 1,
      "outputs": [
        {
          "output_type": "stream",
          "text": [
            "Mounted at /content/drive\n"
          ],
          "name": "stdout"
        }
      ]
    },
    {
      "cell_type": "code",
      "metadata": {
        "id": "O8S64nEKlXFV"
      },
      "source": [
        "#https://github.com/sikora507/elgen/blob/master/src/audio%20analysis.ipynb\n",
        "\n",
        "import tensorflow as tf\n",
        "import os\n",
        "import numpy as np\n",
        "cwd = os.getcwd()"
      ],
      "execution_count": 43,
      "outputs": []
    },
    {
      "cell_type": "code",
      "metadata": {
        "colab": {
          "base_uri": "https://localhost:8080/"
        },
        "id": "9BvoYddSlXFW",
        "outputId": "205c639d-ed49-4f23-8c05-998b2c04b697"
      },
      "source": [
        "cd /content/drive/MyDrive/audio_spectrogram/audio"
      ],
      "execution_count": 44,
      "outputs": [
        {
          "output_type": "stream",
          "text": [
            "/content/drive/MyDrive/audio_spectrogram/audio\n"
          ],
          "name": "stdout"
        }
      ]
    },
    {
      "cell_type": "code",
      "metadata": {
        "id": "iIFLftcSlXFY"
      },
      "source": [
        "# numpy 상위 라이브러리 scipy\n",
        "\n",
        "import scipy.io.wavfile"
      ],
      "execution_count": 45,
      "outputs": []
    },
    {
      "cell_type": "code",
      "metadata": {
        "id": "TNkVxZojlXFY",
        "colab": {
          "base_uri": "https://localhost:8080/"
        },
        "outputId": "e7577ab0-7303-4b60-fe79-ece638fd141b"
      },
      "source": [
        "\"\"\"\n",
        "scipy.io.wavfile.read\n",
        ": Return the sample rate (in samples/sec) and data from an LPCM WAV file.\n",
        "-> rate : 가져온 파일의 sample/sec audData = data\n",
        "\"\"\"\n",
        "\n",
        "path = \"./\"\n",
        "file_list = os.listdir(path)\n",
        "wav_list = [file for file in file_list if file.endswith(\".wav\")]\n",
        "\n",
        "print (\"wav_list: {}\".format(wav_list))\n",
        "\n",
        "rate_list = [0 for i in range(len(wav_list))] # 각 wav 파일의 rate 저장할 리스트 -> rate : int\n",
        "audData_list = [0 for i in range(len(wav_list))] # 각 wav 파일의 Data 저장할 리스트 audData : (XXX,XXX : 2) 배열 (1열 left, 2열 right)\n",
        "\n",
        "for i in range(len(wav_list)) :\n",
        "  #print(wav)\n",
        "  rate_list[i],audData_list[i]=scipy.io.wavfile.read(wav_list[i])\n",
        "\n",
        "print(rate_list) # rate는 wav 파일마다 다름\n",
        "print()\n",
        "print(audData_list[0].shape[0])"
      ],
      "execution_count": 46,
      "outputs": [
        {
          "output_type": "stream",
          "text": [
            "wav_list: ['SnowVillage_p308.wav', 'AbovetheTreetops_p002.wav', 'Nautilus_p238.wav', 'DragonRider_p096.wav', 'QueensGarden_p265.wav', 'Nautilus238.wav', 'DragonRider096.wav', 'AbovetheTreetops002.wav', 'SnowVillage308.wav', 'QueensGarden265.wav']\n",
            "[48000, 48000, 48000, 48000, 48000, 44100, 44100, 22050, 22050, 22050]\n",
            "\n",
            "9232380\n"
          ],
          "name": "stdout"
        }
      ]
    },
    {
      "cell_type": "code",
      "metadata": {
        "colab": {
          "base_uri": "https://localhost:8080/"
        },
        "id": "qp1dl5IVlXFY",
        "outputId": "f048823b-7931-4e62-c4f1-2e5b86cbbfbe"
      },
      "source": [
        "# 첫번째 저장된 wav 파일 정보 확인\n",
        "print(audData_list[0].shape) # [audData 개수(길이) : left&right] 구조\n",
        "print(audData_list[0][0]) # 첫번째 audData 값 [left right]\n",
        "print(audData_list[0]) # 전체 auData 값\n",
        "print(audData_list[0].dtype) # datatype\n",
        "print(rate_list[0]) # wav파일의 rate (sample/sec)"
      ],
      "execution_count": 47,
      "outputs": [
        {
          "output_type": "stream",
          "text": [
            "(9232380, 2)\n",
            "[0 1]\n",
            "[[ 0  1]\n",
            " [ 0 -2]\n",
            " [ 0  3]\n",
            " ...\n",
            " [ 2  2]\n",
            " [-1 -3]\n",
            " [-1  3]]\n",
            "int16\n",
            "48000\n"
          ],
          "name": "stdout"
        }
      ]
    },
    {
      "cell_type": "code",
      "metadata": {
        "id": "6N3Yq-fflXFZ",
        "colab": {
          "base_uri": "https://localhost:8080/"
        },
        "outputId": "c996c76b-43f8-4170-eeb3-c3730357137a"
      },
      "source": [
        "# 가져온 audData의 1열 : 왼쪽 소리 / 2열 : 오른쪽 소리\n",
        "channel1_list = [0 for i in range(len(wav_list))]\n",
        "channel2_list = [0 for i in range(len(wav_list))]\n",
        "\n",
        "for i in range (len(wav_list)) :\n",
        "  channel1_list[i]=audData_list[i][:,0] #left\n",
        "  channel2_list[i]=audData_list[i][:,1] #right\n",
        "\n",
        "print(channel1_list)\n",
        "print(channel1_list[0].shape[0])"
      ],
      "execution_count": 48,
      "outputs": [
        {
          "output_type": "stream",
          "text": [
            "[array([ 0,  0,  0, ...,  2, -1, -1], dtype=int16), array([ 1, -3,  3, ...,  0, -1,  1], dtype=int16), array([ 0,  0,  0, ...,  0,  1, -1], dtype=int16), array([ 0,  1, -2, ...,  1, -2,  1], dtype=int16), array([0, 0, 0, ..., 1, 0, 0], dtype=int16), array([0, 0, 0, ..., 0, 0, 0], dtype=int16), array([-1, -1,  0, ...,  0,  0,  0], dtype=int16), array([0, 0, 0, ..., 0, 0, 0], dtype=int16), array([0, 0, 0, ..., 0, 0, 0], dtype=int16), array([0, 0, 0, ..., 0, 0, 0], dtype=int16)]\n",
            "9232380\n"
          ],
          "name": "stdout"
        }
      ]
    },
    {
      "cell_type": "code",
      "metadata": {
        "id": "_o1AtiORlXFZ",
        "colab": {
          "base_uri": "https://localhost:8080/"
        },
        "outputId": "7c1486be-0c9c-4e32-949f-dcad04fa0fa7"
      },
      "source": [
        "def list_chunk(ls, S) : # ls 리스트를 S 단위로 자름\n",
        "  return [ls[i:i+S] for i in range (0, len(ls), S)]\n",
        "\n",
        "# 노래의 일부 자르기!!! 왼쪽 채널만 사용\n",
        "signal_fragment_list = [0 for i in range(len(wav_list))]\n",
        "N = 10 # 노래 나눌 길이 (sec)\n",
        "\n",
        "#for i in range (len(wav_list)) :\n",
        "#  signal_fragment_list[i] = channel1_list[i][30*rate_list[i]:35*rate_list[i]]\n",
        "\n",
        "for i in range (len(wav_list)) :\n",
        "  sec = channel1_list[i].shape[0] / rate_list[i]\n",
        "  print(sec)\n",
        "  signal_fragment_list[i] = list_chunk(channel1_list[i], N*rate_list[i])\n",
        "\n",
        "\"\"\"\n",
        "print(signal_fragment_list)\n",
        "print(len(signal_fragment_list))\n",
        "print(len(signal_fragment_list[0][19]))\n",
        "\"\"\"\n",
        "print(len(signal_fragment_list[2]))\n"
      ],
      "execution_count": 51,
      "outputs": [
        {
          "output_type": "stream",
          "text": [
            "192.34125\n",
            "268.42466666666667\n",
            "130.85589583333334\n",
            "140.16091666666668\n",
            "130.51354166666667\n",
            "122.25412698412698\n",
            "132.85984126984127\n",
            "271.3360090702948\n",
            "192.75968253968253\n",
            "119.53845804988661\n",
            "14\n"
          ],
          "name": "stdout"
        }
      ]
    },
    {
      "cell_type": "markdown",
      "metadata": {
        "id": "Lw_J2XHDlXFZ"
      },
      "source": [
        "### Create FFT"
      ]
    },
    {
      "cell_type": "code",
      "metadata": {
        "id": "ApjrDofYlXFa"
      },
      "source": [
        "import numpy as np\n",
        "import math\n",
        "from PIL import Image\n",
        "import time"
      ],
      "execution_count": 38,
      "outputs": []
    },
    {
      "cell_type": "code",
      "metadata": {
        "id": "DRWlNP-KlXFa"
      },
      "source": [
        "FFT_LENGTH = 1024\n",
        "WINDOW_LENGTH = 512\n",
        "WINDOW_STEP = int(WINDOW_LENGTH / 2)\n",
        "magnitudeMin = float(\"inf\")\n",
        "magnitudeMax = float(\"-inf\")\n",
        "phaseMin = float(\"inf\")\n",
        "phaseMax = float(\"-inf\")"
      ],
      "execution_count": 39,
      "outputs": []
    },
    {
      "cell_type": "code",
      "metadata": {
        "id": "got7BerBlXFa"
      },
      "source": [
        "def amplifyMagnitudeByLog(d):\n",
        "    return 188.301 * math.log10(d + 1)\n",
        "\n",
        "def weakenAmplifiedMagnitude(d):\n",
        "    return math.pow(10, d/188.301)-1\n",
        "\n",
        "def generateLinearScale(magnitudePixels, phasePixels, \n",
        "                        magnitudeMin, magnitudeMax, phaseMin, phaseMax):\n",
        "    height = magnitudePixels.shape[0]\n",
        "    width = magnitudePixels.shape[1]\n",
        "    magnitudeRange = magnitudeMax - magnitudeMin\n",
        "    phaseRange = phaseMax - phaseMin\n",
        "    rgbArray = np.zeros((height, width, 3), 'uint8')\n",
        "    \n",
        "    for w in range(width):\n",
        "        for h in range(height): # 각 픽셀마다 진폭 , 위상 정보 가짐\n",
        "            magnitudePixels[h,w] = (magnitudePixels[h,w] - magnitudeMin) / (magnitudeRange) * 255 * 2\n",
        "            magnitudePixels[h,w] = amplifyMagnitudeByLog(magnitudePixels[h,w])\n",
        "            phasePixels[h,w] = (phasePixels[h,w] - phaseMin) / (phaseRange) * 255\n",
        "            # 이미지 rgb에 magnitude 저장\n",
        "            red = 255 if magnitudePixels[h,w] > 255 else magnitudePixels[h,w]\n",
        "            green = (magnitudePixels[h,w] - 255) if magnitudePixels[h,w] > 255 else 0\n",
        "            blue = phasePixels[h,w]\n",
        "            rgbArray[h,w,0] = int(red)\n",
        "            rgbArray[h,w,1] = int(green)\n",
        "            rgbArray[h,w,2] = int(blue)\n",
        "    return rgbArray\n",
        "\n",
        "def recoverLinearScale(rgbArray, magnitudeMin, magnitudeMax, \n",
        "                       phaseMin, phaseMax):\n",
        "    width = rgbArray.shape[1]\n",
        "    height = rgbArray.shape[0]\n",
        "    magnitudeVals = rgbArray[:,:,0].astype(float) + rgbArray[:,:,1].astype(float)\n",
        "    phaseVals = rgbArray[:,:,2].astype(float)\n",
        "    phaseRange = phaseMax - phaseMin\n",
        "    magnitudeRange = magnitudeMax - magnitudeMin\n",
        "    for w in range(width):\n",
        "        for h in range(height):\n",
        "            phaseVals[h,w] = (phaseVals[h,w] / 255 * phaseRange) + phaseMin\n",
        "            magnitudeVals[h,w] = weakenAmplifiedMagnitude(magnitudeVals[h,w])\n",
        "            magnitudeVals[h,w] = (magnitudeVals[h,w] / (255*2) * magnitudeRange) + magnitudeMin\n",
        "    return magnitudeVals, phaseVals"
      ],
      "execution_count": 40,
      "outputs": []
    },
    {
      "cell_type": "code",
      "metadata": {
        "id": "xnlzdqgOlXFa"
      },
      "source": [
        "def generateSpectrogramForWave(signal): # 잘라온거 받음\n",
        "    start_time = time.time()\n",
        "    global magnitudeMin\n",
        "    global magnitudeMax\n",
        "    global phaseMin\n",
        "    global phaseMax\n",
        "    buffer = np.zeros(int(signal.size + WINDOW_STEP - (signal.size % WINDOW_STEP)))\n",
        "    buffer[0:len(signal)] = signal\n",
        "    height = int(FFT_LENGTH / 2 + 1)\n",
        "    width = int(len(buffer) / (WINDOW_STEP) - 1)\n",
        "    magnitudePixels = np.zeros((height, width))\n",
        "    phasePixels = np.zeros((height, width))\n",
        "\n",
        "    for w in range(width): # w : 이미지 가로 픽셀\n",
        "        buff = np.zeros(FFT_LENGTH)\n",
        "        stepBuff = buffer[w*WINDOW_STEP:w*WINDOW_STEP + WINDOW_LENGTH]\n",
        "        # apply hanning window\n",
        "        stepBuff = stepBuff * np.hanning(WINDOW_LENGTH)\n",
        "        buff[0:len(stepBuff)] = stepBuff\n",
        "        #buff now contains windowed signal with step length and padded with zeroes to the end\n",
        "        fft = np.fft.rfft(buff)\n",
        "        for h in range(len(fft)):\n",
        "            #print(buff.shape)\n",
        "            #return\n",
        "            magnitude = math.sqrt(fft[h].real**2 + fft[h].imag**2) # fft로 magnitude 계산\n",
        "            if magnitude > magnitudeMax:\n",
        "                magnitudeMax = magnitude \n",
        "            if magnitude < magnitudeMin:\n",
        "                magnitudeMin = magnitude \n",
        "\n",
        "            phase = math.atan2(fft[h].imag, fft[h].real) # phase = frequency?\n",
        "            if phase > phaseMax:\n",
        "                phaseMax = phase\n",
        "            if phase < phaseMin:\n",
        "                phaseMin = phase\n",
        "            magnitudePixels[height-h-1,w] = magnitude # 진폭 정보\n",
        "            phasePixels[height-h-1,w] = phase # 위상 정보\n",
        "    rgbArray = generateLinearScale(magnitudePixels, phasePixels,\n",
        "                                  magnitudeMin, magnitudeMax, phaseMin, phaseMax) # rgb형태로 생성\n",
        "    elapsed_time = time.time() - start_time\n",
        "    print('%.2f' % elapsed_time, 's', sep='')\n",
        "    img = Image.fromarray(rgbArray, 'RGB')\n",
        "    return img\n"
      ],
      "execution_count": 41,
      "outputs": []
    },
    {
      "cell_type": "code",
      "metadata": {
        "colab": {
          "base_uri": "https://localhost:8080/"
        },
        "id": "IrSeDlVuDK9H",
        "outputId": "7a8777d0-c652-4ed5-a01b-bdc4248ed148"
      },
      "source": [
        "for i in range (len(wav_list)) : # 모든 노래\n",
        "  for j in range (len(signal_fragment_list[i])) : # 각 노래 자른 개수\n",
        "    img = generateSpectrogramForWave(signal_fragment_list[i][j]) # signal_fragment : 일정부분 잘라온거\n",
        "    #scipy.io.wavfile.write(\"/content/drive/MyDrive/audio_analysis/audio/\" + , rate, signal_fragment) # (filname, rate, data) wav 파일 새로 씀 (굳이 할필요 X)\n",
        "    img.save(\"/content/drive/MyDrive/audio_spectrogram/spectrogram/\" + wav_list[i][:-4] + \"_\" + str(j+1) + \".png\",\"PNG\") # *.wav 이름으로 저장된 wav_list에서 .png로 이름 변경하여 저장\n",
        "\n",
        "#generateSpectrogramForWave(signal_fragment_list)"
      ],
      "execution_count": 54,
      "outputs": [
        {
          "output_type": "stream",
          "text": [
            "9.45s\n",
            "9.54s\n",
            "9.26s\n",
            "9.17s\n",
            "9.29s\n",
            "9.55s\n",
            "9.23s\n",
            "9.17s\n",
            "9.21s\n",
            "9.37s\n",
            "9.23s\n",
            "9.26s\n",
            "9.29s\n",
            "9.37s\n",
            "9.23s\n",
            "9.32s\n",
            "9.34s\n",
            "9.22s\n",
            "9.28s\n",
            "2.17s\n",
            "9.42s\n",
            "9.36s\n",
            "9.30s\n",
            "9.37s\n",
            "9.28s\n",
            "9.26s\n",
            "9.22s\n",
            "9.32s\n",
            "9.45s\n",
            "9.43s\n",
            "9.12s\n",
            "9.39s\n",
            "9.39s\n",
            "9.88s\n",
            "9.58s\n",
            "10.13s\n",
            "9.75s\n",
            "9.60s\n",
            "9.27s\n",
            "9.60s\n",
            "9.72s\n",
            "9.72s\n",
            "9.58s\n",
            "9.70s\n",
            "9.50s\n",
            "9.53s\n",
            "7.88s\n",
            "9.56s\n",
            "9.63s\n",
            "9.36s\n",
            "9.24s\n",
            "9.37s\n",
            "9.40s\n",
            "9.65s\n",
            "9.22s\n",
            "9.26s\n",
            "9.31s\n",
            "9.36s\n",
            "9.27s\n",
            "9.27s\n",
            "0.80s\n",
            "9.33s\n",
            "9.17s\n",
            "9.28s\n",
            "9.37s\n",
            "9.32s\n",
            "9.20s\n",
            "9.20s\n",
            "9.21s\n",
            "9.22s\n",
            "9.24s\n",
            "9.23s\n",
            "9.21s\n",
            "9.28s\n",
            "9.15s\n",
            "0.14s\n",
            "9.32s\n",
            "9.29s\n",
            "9.07s\n",
            "9.35s\n",
            "9.30s\n",
            "9.45s\n",
            "9.17s\n",
            "9.33s\n",
            "9.34s\n",
            "9.38s\n",
            "9.26s\n",
            "9.13s\n",
            "9.32s\n",
            "0.48s\n",
            "8.44s\n",
            "8.48s\n",
            "8.63s\n",
            "8.70s\n",
            "8.40s\n",
            "8.44s\n",
            "8.49s\n",
            "8.48s\n",
            "8.49s\n",
            "8.45s\n",
            "8.54s\n",
            "8.59s\n",
            "1.93s\n",
            "8.56s\n",
            "8.59s\n",
            "8.55s\n",
            "8.44s\n",
            "8.66s\n",
            "8.64s\n",
            "8.71s\n",
            "8.53s\n",
            "8.64s\n",
            "8.54s\n",
            "8.67s\n",
            "8.39s\n",
            "8.56s\n",
            "2.44s\n",
            "4.30s\n",
            "4.23s\n",
            "4.23s\n",
            "4.23s\n",
            "4.29s\n",
            "4.33s\n",
            "4.32s\n",
            "4.28s\n",
            "4.31s\n",
            "4.25s\n",
            "4.27s\n",
            "4.47s\n",
            "4.34s\n",
            "4.20s\n",
            "4.27s\n",
            "4.28s\n",
            "4.39s\n",
            "4.28s\n",
            "4.22s\n",
            "4.25s\n",
            "4.32s\n",
            "4.30s\n",
            "4.24s\n",
            "4.34s\n",
            "4.26s\n",
            "4.22s\n",
            "4.23s\n",
            "0.57s\n",
            "4.32s\n",
            "4.19s\n",
            "4.22s\n",
            "4.26s\n",
            "4.31s\n",
            "4.23s\n",
            "4.17s\n",
            "4.21s\n",
            "4.16s\n",
            "4.19s\n",
            "4.24s\n",
            "4.30s\n",
            "4.34s\n",
            "4.24s\n",
            "4.22s\n",
            "4.25s\n",
            "4.28s\n",
            "4.31s\n",
            "4.21s\n",
            "1.17s\n",
            "4.32s\n",
            "4.24s\n",
            "4.26s\n",
            "4.29s\n",
            "4.29s\n",
            "4.23s\n",
            "4.26s\n",
            "4.26s\n",
            "4.33s\n",
            "4.20s\n",
            "4.21s\n",
            "4.11s\n"
          ],
          "name": "stdout"
        }
      ]
    },
    {
      "cell_type": "markdown",
      "metadata": {
        "id": "JO2CEQ6elXFb"
      },
      "source": [
        "### Recover from png"
      ]
    },
    {
      "cell_type": "code",
      "metadata": {
        "colab": {
          "base_uri": "https://localhost:8080/"
        },
        "id": "cThbiHH0GYBY",
        "outputId": "2cb269f1-aeb7-4030-9318-6d58152fe755"
      },
      "source": [
        "cd /content/drive/MyDrive/audio_spectrogram/spectrogram/"
      ],
      "execution_count": 58,
      "outputs": [
        {
          "output_type": "stream",
          "text": [
            "/content/drive/MyDrive/audio_spectrogram/spectrogram\n"
          ],
          "name": "stdout"
        }
      ]
    },
    {
      "cell_type": "code",
      "metadata": {
        "colab": {
          "base_uri": "https://localhost:8080/"
        },
        "id": "Z2SBmKk7GUn_",
        "outputId": "13c93988-f7db-4717-a661-24055ac139ad"
      },
      "source": [
        "# spectrogram 디렉토리에 있는 png 파일 읽어옴\n",
        "\n",
        "path = \"./\"\n",
        "file_list = os.listdir(path)\n",
        "png_list = [file for file in file_list if file.endswith(\".png\")]\n",
        "\n",
        "print (\"png_list: {}\".format(png_list))"
      ],
      "execution_count": 59,
      "outputs": [
        {
          "output_type": "stream",
          "text": [
            "png_list: ['SnowVillage_p308.png', 'AbovetheTreetops_p002.png', 'Nautilus_p238.png', 'DragonRider_p096.png', 'QueensGarden_p265.png', 'Nautilus238.png', 'DragonRider096.png', 'AbovetheTreetops002.png', 'SnowVillage308.png', 'QueensGarden265.png', 'SnowVillage_p308_1.png', 'SnowVillage_p308_2.png', 'SnowVillage_p308_3.png', 'SnowVillage_p308_4.png', 'SnowVillage_p308_5.png', 'SnowVillage_p308_6.png', 'SnowVillage_p308_7.png', 'SnowVillage_p308_8.png', 'SnowVillage_p308_9.png', 'SnowVillage_p308_10.png', 'SnowVillage_p308_11.png', 'SnowVillage_p308_12.png', 'SnowVillage_p308_13.png', 'SnowVillage_p308_14.png', 'SnowVillage_p308_15.png', 'SnowVillage_p308_16.png', 'SnowVillage_p308_17.png', 'SnowVillage_p308_18.png', 'SnowVillage_p308_19.png', 'SnowVillage_p308_20.png', 'AbovetheTreetops_p002_1.png', 'AbovetheTreetops_p002_2.png', 'AbovetheTreetops_p002_3.png', 'AbovetheTreetops_p002_4.png', 'AbovetheTreetops_p002_5.png', 'AbovetheTreetops_p002_6.png', 'AbovetheTreetops_p002_7.png', 'AbovetheTreetops_p002_8.png', 'AbovetheTreetops_p002_9.png', 'AbovetheTreetops_p002_10.png', 'AbovetheTreetops_p002_11.png', 'AbovetheTreetops_p002_12.png', 'AbovetheTreetops_p002_13.png', 'AbovetheTreetops_p002_14.png', 'AbovetheTreetops_p002_15.png', 'AbovetheTreetops_p002_16.png', 'AbovetheTreetops_p002_17.png', 'AbovetheTreetops_p002_18.png', 'AbovetheTreetops_p002_19.png', 'AbovetheTreetops_p002_20.png', 'AbovetheTreetops_p002_21.png', 'AbovetheTreetops_p002_22.png', 'AbovetheTreetops_p002_23.png', 'AbovetheTreetops_p002_24.png', 'AbovetheTreetops_p002_25.png', 'AbovetheTreetops_p002_26.png', 'AbovetheTreetops_p002_27.png', 'Nautilus_p238_1.png', 'Nautilus_p238_2.png', 'Nautilus_p238_3.png', 'Nautilus_p238_4.png', 'Nautilus_p238_5.png', 'Nautilus_p238_6.png', 'Nautilus_p238_7.png', 'Nautilus_p238_8.png', 'Nautilus_p238_9.png', 'Nautilus_p238_10.png', 'Nautilus_p238_11.png', 'Nautilus_p238_12.png', 'Nautilus_p238_13.png', 'Nautilus_p238_14.png', 'DragonRider_p096_1.png', 'DragonRider_p096_2.png', 'DragonRider_p096_3.png', 'DragonRider_p096_4.png', 'DragonRider_p096_5.png', 'DragonRider_p096_6.png', 'DragonRider_p096_7.png', 'DragonRider_p096_8.png', 'DragonRider_p096_9.png', 'DragonRider_p096_10.png', 'DragonRider_p096_11.png', 'DragonRider_p096_12.png', 'DragonRider_p096_13.png', 'DragonRider_p096_14.png', 'DragonRider_p096_15.png', 'QueensGarden_p265_1.png', 'QueensGarden_p265_2.png', 'QueensGarden_p265_3.png', 'QueensGarden_p265_4.png', 'QueensGarden_p265_5.png', 'QueensGarden_p265_6.png', 'QueensGarden_p265_7.png', 'QueensGarden_p265_8.png', 'QueensGarden_p265_9.png', 'QueensGarden_p265_10.png', 'QueensGarden_p265_11.png', 'QueensGarden_p265_12.png', 'QueensGarden_p265_13.png', 'QueensGarden_p265_14.png', 'Nautilus238_1.png', 'Nautilus238_2.png', 'Nautilus238_3.png', 'Nautilus238_4.png', 'Nautilus238_5.png', 'Nautilus238_6.png', 'Nautilus238_7.png', 'Nautilus238_8.png', 'Nautilus238_9.png', 'Nautilus238_10.png', 'Nautilus238_11.png', 'Nautilus238_12.png', 'Nautilus238_13.png', 'DragonRider096_1.png', 'DragonRider096_2.png', 'DragonRider096_3.png', 'DragonRider096_4.png', 'DragonRider096_5.png', 'DragonRider096_6.png', 'DragonRider096_7.png', 'DragonRider096_8.png', 'DragonRider096_9.png', 'DragonRider096_10.png', 'DragonRider096_11.png', 'DragonRider096_12.png', 'DragonRider096_13.png', 'DragonRider096_14.png', 'AbovetheTreetops002_1.png', 'AbovetheTreetops002_2.png', 'AbovetheTreetops002_3.png', 'AbovetheTreetops002_4.png', 'AbovetheTreetops002_5.png', 'AbovetheTreetops002_6.png', 'AbovetheTreetops002_7.png', 'AbovetheTreetops002_8.png', 'AbovetheTreetops002_9.png', 'AbovetheTreetops002_10.png', 'AbovetheTreetops002_11.png', 'AbovetheTreetops002_12.png', 'AbovetheTreetops002_13.png', 'AbovetheTreetops002_14.png', 'AbovetheTreetops002_15.png', 'AbovetheTreetops002_16.png', 'AbovetheTreetops002_17.png', 'AbovetheTreetops002_18.png', 'AbovetheTreetops002_19.png', 'AbovetheTreetops002_20.png', 'AbovetheTreetops002_21.png', 'AbovetheTreetops002_22.png', 'AbovetheTreetops002_23.png', 'AbovetheTreetops002_24.png', 'AbovetheTreetops002_25.png', 'AbovetheTreetops002_26.png', 'AbovetheTreetops002_27.png', 'AbovetheTreetops002_28.png', 'SnowVillage308_1.png', 'SnowVillage308_2.png', 'SnowVillage308_3.png', 'SnowVillage308_4.png', 'SnowVillage308_5.png', 'SnowVillage308_6.png', 'SnowVillage308_7.png', 'SnowVillage308_8.png', 'SnowVillage308_9.png', 'SnowVillage308_10.png', 'SnowVillage308_11.png', 'SnowVillage308_12.png', 'SnowVillage308_13.png', 'SnowVillage308_14.png', 'SnowVillage308_15.png', 'SnowVillage308_16.png', 'SnowVillage308_17.png', 'SnowVillage308_18.png', 'SnowVillage308_19.png', 'SnowVillage308_20.png', 'QueensGarden265_1.png', 'QueensGarden265_2.png', 'QueensGarden265_3.png', 'QueensGarden265_4.png', 'QueensGarden265_5.png', 'QueensGarden265_6.png', 'QueensGarden265_7.png', 'QueensGarden265_8.png', 'QueensGarden265_9.png', 'QueensGarden265_10.png', 'QueensGarden265_11.png', 'QueensGarden265_12.png']\n"
          ],
          "name": "stdout"
        }
      ]
    },
    {
      "cell_type": "code",
      "metadata": {
        "id": "dRDl7DVhlXFb"
      },
      "source": [
        "def recoverSignalFromSpectrogram(filePath,rate):\n",
        "    img = Image.open(filePath)\n",
        "    data = np.array( img, dtype='uint8' )\n",
        "    width = data.shape[1]\n",
        "    height = data.shape[0]\n",
        "\n",
        "    magnitudeVals, phaseVals \\\n",
        "    = recoverLinearScale(data, magnitudeMin, magnitudeMax, phaseMin, phaseMax)\n",
        "    \n",
        "    recovered = np.zeros(WINDOW_LENGTH * width // 2 + WINDOW_STEP, dtype=np.int16)\n",
        "    for w in range(width):\n",
        "        toInverse = np.zeros(height, dtype=np.complex_)\n",
        "        for h in range(height):\n",
        "            magnitude = magnitudeVals[height-h-1,w]\n",
        "            phase = phaseVals[height-h-1,w]\n",
        "            toInverse[h] = magnitude * math.cos(phase) + (1j * magnitude * math.sin(phase))\n",
        "        signal = np.fft.irfft(toInverse)\n",
        "        recovered[w*WINDOW_STEP:w*WINDOW_STEP + WINDOW_LENGTH] += signal[:WINDOW_LENGTH].astype(np.int16)\n",
        "    scipy.io.wavfile.write(filePath[:-4] + \"_recovered.wav\", rate, recovered) # spectrogram 읽은 디렉토리에 복원된 음원 저장"
      ],
      "execution_count": 60,
      "outputs": []
    },
    {
      "cell_type": "code",
      "metadata": {
        "id": "dZtDvCKmlXFc"
      },
      "source": [
        "# 읽어온 png 파일에 대해 음원으로 복원\n",
        "\n",
        "for i in range (len(wav_list)) :\n",
        "  recoverSignalFromSpectrogram(\"/content/drive/MyDrive/audio_spectrogram/spectrogram/\" + png_list[i], rate_list[i])"
      ],
      "execution_count": null,
      "outputs": []
    },
    {
      "cell_type": "code",
      "metadata": {
        "id": "F-nsae3eIQHO"
      },
      "source": [
        ""
      ],
      "execution_count": null,
      "outputs": []
    }
  ]
}